{
    "cells": [
        {
            "metadata": {},
            "cell_type": "markdown",
            "source": "# <div style='text-align:center; font-size:40px'>Desafio de python para data science</div>\n"
        },
        {
            "metadata": {},
            "cell_type": "markdown",
            "source": "<ol>\n    <li>\n        Ler Json de entrada do object storage\n        Criar 3 fun\u00e7\u00f5es diferentes que mostrem as entradas ordenadas por:\n        Data;\n        Nome;\n        Valor; <br><br>\n    </li>\n    <li>\n        Dada uma entrada CSV do object storage\n        Criar uma fun\u00e7\u00e3o mostre o conte\u00fado do CSV sem repeti\u00e7\u00f5es em ordem alfab\u00e9tica\n        Python Local<br><br>\n    </li>\n    <li>\n        Criar um programa que receba a entrada do usu\u00e1rio, pedindo a(s) resposta(s) para a fun\u00e7\u00e3o $x^2+ 2x - 20$ e envie a mensagem \u201cParab\u00e9ns\u201d caso o usu\u00e1rio tenha acertado, caso contr\u00e1rio envie \u201cEssa n\u00e3o \u00e9 bem a resposta, o correto \u00e9 $x_1$ e $x_2$\"\n    </li>"
        },
        {
            "metadata": {},
            "cell_type": "markdown",
            "source": "# <div style='font-size:25px; color:#3a63a6'>Inicio da parte 1</div>"
        },
        {
            "metadata": {},
            "cell_type": "markdown",
            "source": "Para usar o arquivo JSON primeiro \u00e9 preciso importar algumas ferramentas e conectar ao Object Storage, s\u00f3 ent\u00e3o o JSON \u00e9 transformado em um dataframe."
        },
        {
            "metadata": {},
            "cell_type": "code",
            "source": "import types \nimport pandas as pd \nfrom botocore.client import Config \n\nimport ibm_boto3 \n\ndef __iter__(self): return 0 \n\n# @hidden_cell \n# The following code accesses a file in your IBM Cloud Object Storage. It includes your credentials. \n# You might want to remove those credentials before you share the notebook. \nclient_4a01f471213a4910828592f81bb9528f = ibm_boto3.client(service_name='s3', \n    ibm_api_key_id='vExLh4erPkj99za1SWnoaI81M9T7YRVRkS-8tpzUf1Yl',\n    ibm_auth_endpoint=\"https://iam.ng.bluemix.net/oidc/token\", \n    config=Config(signature_version='oauth'), \n    endpoint_url='https://s3-api.us-geo.objectstorage.service.networklayer.com') \n\nbody = client_4a01f471213a4910828592f81bb9528f.get_object(Bucket='chgln-donotdelete-pr-pzfhxoaf29f0oj',Key='data.json')['Body'] \n# add missing __iter__ method, so pandas accepts body as file-like object \n\nif not hasattr(body, \"__iter__\"): body.__iter__ = types.MethodType( __iter__, body )\n    \n# Since JSON data can be semi-structured and contain additional metadata, it is possible that you might face an error during data loading. \n# Please read the documentation of 'pandas.read_json()' and 'pandas.io.json.json_normalize' to learn more about the possibilities to adjust the data loading. \n# pandas documentation: http://pandas.pydata.org/pandas-docs/stable/io.html#io-json-reader \n# and http://pandas.pydata.org/pandas-docs/stable/generated/pandas.io.json.json_normalize.html \n\ndf_data_1 = pd.read_json(body, orient='values') ",
            "execution_count": 1,
            "outputs": []
        },
        {
            "metadata": {},
            "cell_type": "markdown",
            "source": "As fun\u00e7\u00f5es s\u00e3o bem simples, elas apenas retornam o dataframe recebido conforme o parametro de cada uma."
        },
        {
            "metadata": {},
            "cell_type": "code",
            "source": "def jsondate(json):\n    return json.sort_values([\"date\"])\n\ndef jsonname(json):\n    return json.sort_values([\"name\"])\n\ndef jsonvalue(json):\n    return json.sort_values([\"value\"])",
            "execution_count": 2,
            "outputs": []
        },
        {
            "metadata": {},
            "cell_type": "markdown",
            "source": "O usu\u00e1rio pode escolher o que vai ordenar no momento, quantas vezes ele desejar."
        },
        {
            "metadata": {
                "scrolled": true
            },
            "cell_type": "code",
            "source": "while(True):\n\n    escolha = input(\"Deseja ordenar por:\\n1.Data \\n2.Nome \\n3.Valor\\n4.Deixar de ordenar\\n\")\n\n    if(escolha == '1'):\n        print(\"\\nOrdenado por data:\\n\")\n        df_data_1 = jsondate(df_data_1)\n\n    elif(escolha == '2'):\n        df_data_1 = jsonname(df_data_1)\n        print(\"\\nOrdenado por nome:\\n\")\n\n    elif(escolha == '3'):\n        df_data_1 = jsonvalue(df_data_1)\n        print(\"\\nOrdenado por valor\\n\")\n        \n    elif(escolha == '4'):\n        break;\n    \n    else:\n        print('\\nEscolha uma op\u00e7\u00e3o correta')\n        continue;\n\n\n    print(df_data_1)",
            "execution_count": 3,
            "outputs": [
                {
                    "output_type": "stream",
                    "name": "stdout",
                    "text": "Deseja ordenar por:\n1.Data \n2.Nome \n3.Valor\n4.Deixar de ordenar\n1\n\nOrdenado por data:\n\n         date         name  value\n16 2018-11-23       Culver  68.38\n15 2018-11-24        Xenia  43.61\n0  2018-12-12       Kimble  93.28\n10 2019-01-13     Kristine  26.09\n24 2019-01-27   Christabel  73.09\n13 2019-02-03     Claudine  26.28\n8  2019-02-14        Graig  79.75\n1  2019-03-08       Alanna  10.51\n5  2019-03-21         Isac   5.21\n4  2019-03-23        Pedro  98.77\n14 2019-04-07      Honoria  93.40\n6  2019-04-10        Gayla  40.03\n20 2019-04-11      Jackson  53.92\n17 2019-05-14       Paddie  99.52\n23 2019-05-25         Jack  87.38\n22 2019-06-18     Christie  83.61\n3  2019-07-28       Rustin  47.94\n19 2019-08-02        Tadio   4.40\n18 2019-08-17         Livy  51.81\n12 2019-08-21         Teri  22.17\n2  2019-10-09          Jay  29.41\n11 2019-10-10      Brenden  41.40\n7  2019-10-16      Ransell  80.89\n21 2019-10-19        Elise  35.62\n9  2019-10-21  Jacquenetta  97.73\nDeseja ordenar por:\n1.Data \n2.Nome \n3.Valor\n4.Deixar de ordenar\n2\n\nOrdenado por nome:\n\n         date         name  value\n1  2019-03-08       Alanna  10.51\n11 2019-10-10      Brenden  41.40\n24 2019-01-27   Christabel  73.09\n22 2019-06-18     Christie  83.61\n13 2019-02-03     Claudine  26.28\n16 2018-11-23       Culver  68.38\n21 2019-10-19        Elise  35.62\n6  2019-04-10        Gayla  40.03\n8  2019-02-14        Graig  79.75\n14 2019-04-07      Honoria  93.40\n5  2019-03-21         Isac   5.21\n23 2019-05-25         Jack  87.38\n20 2019-04-11      Jackson  53.92\n9  2019-10-21  Jacquenetta  97.73\n2  2019-10-09          Jay  29.41\n0  2018-12-12       Kimble  93.28\n10 2019-01-13     Kristine  26.09\n18 2019-08-17         Livy  51.81\n17 2019-05-14       Paddie  99.52\n4  2019-03-23        Pedro  98.77\n7  2019-10-16      Ransell  80.89\n3  2019-07-28       Rustin  47.94\n19 2019-08-02        Tadio   4.40\n12 2019-08-21         Teri  22.17\n15 2018-11-24        Xenia  43.61\nDeseja ordenar por:\n1.Data \n2.Nome \n3.Valor\n4.Deixar de ordenar\n3\n\nOrdenado por valor\n\n         date         name  value\n19 2019-08-02        Tadio   4.40\n5  2019-03-21         Isac   5.21\n1  2019-03-08       Alanna  10.51\n12 2019-08-21         Teri  22.17\n10 2019-01-13     Kristine  26.09\n13 2019-02-03     Claudine  26.28\n2  2019-10-09          Jay  29.41\n21 2019-10-19        Elise  35.62\n6  2019-04-10        Gayla  40.03\n11 2019-10-10      Brenden  41.40\n15 2018-11-24        Xenia  43.61\n3  2019-07-28       Rustin  47.94\n18 2019-08-17         Livy  51.81\n20 2019-04-11      Jackson  53.92\n16 2018-11-23       Culver  68.38\n24 2019-01-27   Christabel  73.09\n8  2019-02-14        Graig  79.75\n7  2019-10-16      Ransell  80.89\n22 2019-06-18     Christie  83.61\n23 2019-05-25         Jack  87.38\n0  2018-12-12       Kimble  93.28\n14 2019-04-07      Honoria  93.40\n9  2019-10-21  Jacquenetta  97.73\n4  2019-03-23        Pedro  98.77\n17 2019-05-14       Paddie  99.52\nDeseja ordenar por:\n1.Data \n2.Nome \n3.Valor\n4.Deixar de ordenar\n4\n"
                }
            ]
        },
        {
            "metadata": {},
            "cell_type": "markdown",
            "source": "<br>"
        },
        {
            "metadata": {},
            "cell_type": "markdown",
            "source": "# <div style='font-size:25px;color:#3a63a6'>Inicio da parte 2</div>"
        },
        {
            "metadata": {},
            "cell_type": "markdown",
            "source": "Como o necess\u00e1rio j\u00e1 foi importado, \u00e9 necess\u00e1rio apenas conectar ao Object Storage e criar o dataframe. <br>\nPor fim s\u00f3 h\u00e1 uma fun\u00e7\u00e3o a ser ordenada e printada."
        },
        {
            "metadata": {},
            "cell_type": "code",
            "source": "body = client_4a01f471213a4910828592f81bb9528f.get_object(Bucket='chgln-donotdelete-pr-pzfhxoaf29f0oj',Key='data.csv')['Body']\n# add missing __iter__ method, so pandas accepts body as file-like object \nif not hasattr(body, \"__iter__\"): body.__iter__ = types.MethodType( __iter__, body ) \n    \ndf2 = pd.read_csv(body) ",
            "execution_count": 4,
            "outputs": []
        },
        {
            "metadata": {},
            "cell_type": "code",
            "source": "def csvorder(csv):\n    return csv.sort_values(by=['name'])",
            "execution_count": 5,
            "outputs": []
        },
        {
            "metadata": {},
            "cell_type": "code",
            "source": "df2 = csvorder(df2)\nprint(df2)",
            "execution_count": 6,
            "outputs": [
                {
                    "output_type": "stream",
                    "text": "           name\n73     Adrianne\n74        Alene\n46   Alessandro\n20       Alfons\n99      Anthony\n75        Armin\n51      Artemis\n41        Berne\n90        Bunni\n35         Calv\n4         Candi\n92       Carlyn\n67       Caspar\n79     Christie\n80       Cindie\n29     Clarence\n12     Clarisse\n85         Codi\n60  Constantino\n84   Cristionna\n97        Daffi\n21        Daune\n13        Druci\n22    Ellswerth\n34        Elora\n62    Fanchette\n89        Fanya\n5        Farica\n59        Gaile\n6       Garrard\n..          ...\n82        Perle\n57   Philippine\n23       Portia\n14      Rafaela\n33    Reginauld\n11        Reine\n72      Reinold\n47        Retha\n30      Riobard\n1      Robinett\n0           Rog\n58      Rozelle\n3        Rutter\n53       Shandy\n25        Slade\n49       Sorcha\n2        Stacee\n76       Steven\n61         Sven\n40       Tandie\n71       Tanney\n48        Tasha\n18      Theresa\n7         Venus\n26        Verne\n28        Vevay\n52      Whitney\n86      William\n15        Wolfy\n87        Zarah\n\n[100 rows x 1 columns]\n",
                    "name": "stdout"
                }
            ]
        },
        {
            "metadata": {},
            "cell_type": "markdown",
            "source": "# <div style='font-size:25px; color:#3a63a6'>Inicio da parte 3</div>"
        },
        {
            "metadata": {},
            "cell_type": "markdown",
            "source": "Ficamos em d\u00favida se o que foi pedido e tomamos dois caminhos: <br>\n<ol>\n    <li>\u00c9 uma fun\u00e7\u00e3o, onde o usu\u00e1rio insere um valor e o resultado \u00e9 c\u00e1lculado e comparado.<br></li>\n    <li>\u00c9 uma equa\u00e7\u00e3o de segundo grau com dois resultados e o usu\u00e1rio insere as ra\u00edzes que s\u00e3o comparadas com o valor real <br></li>\n</ol>\nNa d\u00favida acabei fazendo os dois como fun\u00e7\u00f5es e o usu\u00e1rio seleciona qual delas vai executar, assim como na parte 1 desse desafio."
        },
        {
            "metadata": {},
            "cell_type": "markdown",
            "source": "Foram cradas tr\u00eas fun\u00e7\u00f5es. A para calcular a fun\u00e7\u00e3o $y(x)$, a para calcular a equa\u00e7\u00e3o e o bh\u00e1skara necess\u00e1rio para descobrir as ra\u00edzes da equa\u00e7\u00e3o."
        },
        {
            "metadata": {
                "scrolled": true
            },
            "cell_type": "code",
            "source": "def funcao():\n    valorx = float(input(\"Digite o valor desejado: \"))\n    resCorrect = pow(valorx, 2) + 2*valorx - 20\n    resUser = float(input(\"Digite o valor de f(x) que voc\u00ea calculou para essa fun\u00e7\u00e3o: \"))\n\n\n    if(resCorrect == resUser):\n        print(\"Parab\u00e9ns, voc\u00ea est\u00e1 certo!\")\n    else:\n        print(\"Ops, parece que voc\u00ea n\u00e3o est\u00e1 correto :(\")\n        print(\"O resultado \u00e9 {}\".format(resCorrect))",
            "execution_count": 7,
            "outputs": []
        },
        {
            "metadata": {},
            "cell_type": "markdown",
            "source": "Para o segundo modo eu primeiro calculo as ra\u00edzes que satisfazem a equa\u00e7\u00e3o $x^2+2x-20 = 0$. <br>\nEnt\u00e3o \u00e9 pedido os valores ao usu\u00e1rio e vericado se ele est\u00e1 correto."
        },
        {
            "metadata": {},
            "cell_type": "code",
            "source": "def bhaskara(a, b, c):\n    import math \n    \n    delta = math.sqrt(pow(b,2)- (4*a*c))\n\n    return [round(((-b - delta)/2), 3), round((-b + delta)/2, 3)]",
            "execution_count": 8,
            "outputs": []
        },
        {
            "metadata": {},
            "cell_type": "code",
            "source": "def equacao():\n    \n    x1 = bhaskara(1, 2, -20)[0]\n    x2 = bhaskara(1, 2, -20)[1]\n\n    while(True):\n        numRoot = input(\"H\u00e1 quantas ra\u00edzes para essa equa\u00e7\u00e3o? \")\n\n        if(numRoot != '2'):\n            print(\"Hmmm o n\u00famero de ra\u00edzes n\u00e3o \u00e9 esse.\")\n            continue\n        else:\n            break\n\n\n    valor1 = round(float(input(\"Digite a primeira ra\u00edz com 3 casas de precis\u00e3o: \").replace(\",\", \".\")), 3)\n    valor2 = round(float(input(\"Digite a segunda ra\u00edz com 3 casas de precis\u00e3o: \").replace(\",\", \".\")), 3)\n\n    if(valor1==x1 and valor2==x2) or (valor1==x2 and valor2==x1):\n        print(\"Voc\u00ea est\u00e1 correto.\")\n    else:\n        print(\"A resposta n\u00e3o parece estar correta, na verdade a resposta \u00e9 {:.3f} e {:.3f}\".format(x1, x2))",
            "execution_count": 9,
            "outputs": []
        },
        {
            "metadata": {},
            "cell_type": "markdown",
            "source": "Ent\u00e3o agora que as fun\u00e7\u00f5es est\u00e3o feitas, basta perguntar para o usu\u00e1rio o que ele quer fazer."
        },
        {
            "metadata": {},
            "cell_type": "code",
            "source": "opcao = input(\"Voc\u00ea deseja fazer: \\n1.Uma fun\u00e7\u00e3o \\n2.Uma equa\u00e7\u00e3o\\n\")\nif opcao == '1' or opcao.lower() == 'um':\n    print(\"\\nEnt\u00e3o vamos \u00e0 fun\u00e7\u00e3o! \")\n    funcao()\nelif opcao == '2' or opcao.lower() == 'dois':\n    print(\"\\nEnt\u00e3o vamos \u00e0 equa\u00e7\u00e3o! \")\n    equacao()\nelse:\n    print(\"Por favor, selecione 1 ou 2.\")",
            "execution_count": 12,
            "outputs": [
                {
                    "output_type": "stream",
                    "name": "stdout",
                    "text": "Voc\u00ea deseja fazer: \n1.Uma fun\u00e7\u00e3o \n2.Uma equa\u00e7\u00e3o\n2\n\nEnt\u00e3o vamos \u00e0 equa\u00e7\u00e3o! \nH\u00e1 quantas ra\u00edzes para essa equa\u00e7\u00e3o? 2\nDigite a primeira ra\u00edz com 3 casas de precis\u00e3o: 3,5833\nDigite a segunda ra\u00edz com 3 casas de precis\u00e3o: -5,5826\nVoc\u00ea est\u00e1 correto.\n"
                }
            ]
        },
        {
            "metadata": {},
            "cell_type": "markdown",
            "source": "<div style='font-size:25px; color:#3a63a6'>FINITO</div><br>\n<div style='font-size:10px; color:#a3a3a3'>gg easy</div>"
        }
    ],
    "metadata": {
        "kernelspec": {
            "name": "python3",
            "display_name": "Python 3.6",
            "language": "python"
        },
        "language_info": {
            "name": "python",
            "version": "3.6.8",
            "mimetype": "text/x-python",
            "codemirror_mode": {
                "name": "ipython",
                "version": 3
            },
            "pygments_lexer": "ipython3",
            "nbconvert_exporter": "python",
            "file_extension": ".py"
        }
    },
    "nbformat": 4,
    "nbformat_minor": 1
}